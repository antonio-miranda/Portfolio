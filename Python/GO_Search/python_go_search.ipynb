{
 "cells": [
  {
   "cell_type": "markdown",
   "metadata": {},
   "source": [
    "This function requires the goatools package. If not installed yet:<br>\n",
    "pip install goatools --user"
   ]
  },
  {
   "cell_type": "markdown",
   "metadata": {},
   "source": [
    "Ensure the following files are in the working directory: <br>\n",
    "For mouse: genes_ncbi_10090_proteincoding.py <br>\n",
    "For Human: genes_ncbi_9606_proteincoding.py"
   ]
  },
  {
   "cell_type": "code",
   "execution_count": 62,
   "metadata": {},
   "outputs": [],
   "source": [
    "import numpy as np"
   ]
  },
  {
   "cell_type": "markdown",
   "metadata": {},
   "source": [
    "### Create database to convert geneIDs to names:\n",
    "Only use to update existing ones <br>\n",
    "More details - https://github.com/tanghaibao/goatools/blob/main/notebooks/background_genes_ncbi.ipynb"
   ]
  },
  {
   "cell_type": "code",
   "execution_count": 191,
   "metadata": {},
   "outputs": [
    {
     "name": "stdout",
     "output_type": "stream",
     "text": [
      "      73,104 lines READ:  gene_result_mouse.txt\n",
      "      73,081 geneids WROTE: genes_ncbi_10090_proteincoding.py\n"
     ]
    }
   ],
   "source": [
    "#for mouse:\n",
    "from goatools.cli.ncbi_gene_results_to_python import ncbi_tsv_to_py\n",
    "\n",
    "ncbi_tsv = 'gene_result_mouse.txt'\n",
    "output_py = 'genes_ncbi_10090_proteincoding.py'\n",
    "ncbi_tsv_to_py(ncbi_tsv, output_py)"
   ]
  },
  {
   "cell_type": "code",
   "execution_count": null,
   "metadata": {},
   "outputs": [],
   "source": [
    "#for human:\n",
    "from goatools.cli.ncbi_gene_results_to_python import ncbi_tsv_to_py\n",
    "\n",
    "ncbi_tsv = 'gene_result_human.txt'\n",
    "output_py = 'genes_ncbi_9606_proteincoding.py'\n",
    "ncbi_tsv_to_py(ncbi_tsv, output_py)"
   ]
  },
  {
   "cell_type": "markdown",
   "metadata": {},
   "source": [
    "### Function"
   ]
  },
  {
   "cell_type": "code",
   "execution_count": 213,
   "metadata": {},
   "outputs": [],
   "source": [
    "def get_go_list(go_type=(\"BP\",\"MF\",\"CC\"),go_term=\"cell cycle\",species=(\"Human\",\"Mouse\"),subtract=True):\n",
    "    from goatools.base import download_go_basic_obo\n",
    "    obo_fname = download_go_basic_obo()\n",
    "    from goatools.base import download_ncbi_associations\n",
    "    gene2go = download_ncbi_associations()\n",
    "    from goatools.anno.genetogo_reader import Gene2GoReader\n",
    "    if species==\"Human\":\n",
    "        objanno = Gene2GoReader(\"gene2go\", taxids=[9606])\n",
    "        go2geneids = objanno.get_id2gos(namespace=go_type, go2geneids=True)\n",
    "    if species==\"Mouse\":\n",
    "        objanno = Gene2GoReader(\"gene2go\", taxids=[10090])\n",
    "        go2geneids = objanno.get_id2gos(namespace=go_type, go2geneids=True)\n",
    "    from goatools.go_search import GoSearch\n",
    "    srchhelp = GoSearch(\"go-basic.obo\", go2items=go2geneids)\n",
    "    import re\n",
    "    go_all = re.compile(r'{}'.format(go_term), flags=re.IGNORECASE)\n",
    "    go_not = re.compile(r'{}.independent'.format(go_term), flags=re.IGNORECASE)\n",
    "    go_term2=go_term.replace(\" \", \"_\")\n",
    "    fout_allgos = go_term2+species+\".log\"\n",
    "    with open(fout_allgos, \"w\") as log:\n",
    "        gos_cc_all = srchhelp.get_matching_gos(go_all,prt=log)\n",
    "        gos_no_cc = srchhelp.get_matching_gos(go_not, gos=gos_cc_all,prt=log)\n",
    "        gos = gos_cc_all.difference(gos_no_cc)\n",
    "        gos=gos_cc_all\n",
    "        gos_all = srchhelp.add_children_gos(gos)\n",
    "        geneids = srchhelp.get_items(gos_all)\n",
    "    if species==\"Human\":\n",
    "        from genes_ncbi_9606_proteincoding import GENEID2NT\n",
    "    if species==\"Mouse\":\n",
    "        from genes_ncbi_10090_proteincoding import GENEID2NT\n",
    "    genelist=[]\n",
    "    for geneid in geneids: # geneids associated with cell-cycle\n",
    "        nt = GENEID2NT.get(geneid, None)\n",
    "        if nt is not None:\n",
    "                ans= nt.Symbol\n",
    "                genelist=np.append(genelist,ans)\n",
    "    genelist=np.sort(genelist)\n",
    "    return genelist\n",
    "        "
   ]
  },
  {
   "cell_type": "markdown",
   "metadata": {},
   "source": [
    "# Arguments\n",
    "go_type: \"BP\",\"MF\" or \"CC\" - choses which type of GO annotation to search from. BP - Biological Process, MF - Molecular Function; CC - Cellular Compartment <br>\n",
    "go_term: Keyword to searach for. It will include all the GOs that included the keyword, not only the exact match. The more precise the keyword the better. A log file is created in the working directory stating all GOs that were included <br>\n",
    "species: Mouse or Human"
   ]
  },
  {
   "cell_type": "markdown",
   "metadata": {},
   "source": [
    "# Examples"
   ]
  },
  {
   "cell_type": "code",
   "execution_count": 229,
   "metadata": {},
   "outputs": [
    {
     "name": "stdout",
     "output_type": "stream",
     "text": [
      "  EXISTS: go-basic.obo\n",
      "  EXISTS: gene2go\n",
      "HMS:0:00:10.254902 342,209 annotations, 20,703 genes, 18,803 GOs, 1 taxids READ: gene2go \n",
      "12483 IDs in loaded association branch, BP\n",
      "go-basic.obo: fmt(1.2) rel(2022-03-22) 47,103 Terms; optional_attrs(comment def relationship synonym xref)\n"
     ]
    }
   ],
   "source": [
    "go_list=get_go_list(go_type=\"BP\",\n",
    "                    go_term=\"positive regulation of epithelial to mesenchymal transition\",\n",
    "                    species=\"Human\")"
   ]
  },
  {
   "cell_type": "code",
   "execution_count": 230,
   "metadata": {},
   "outputs": [
    {
     "data": {
      "text/plain": [
       "array(['ACVR1', 'ALX1', 'AXIN2', 'BAMBI', 'BCL9L', 'BMP2', 'BMP4', 'BMP7',\n",
       "       'COL1A1', 'CRB2', 'CTNNB1', 'DAB2', 'ENG', 'EZH2', 'FERMT2',\n",
       "       'FOXC1', 'GCNT2', 'GLIPR2', 'HDAC2', 'IL1B', 'IL6', 'ISL1', 'JAG1',\n",
       "       'LEF1', 'LOXL2', 'LRG1', 'MDK', 'MTOR', 'NOTCH1', 'OLFM1', 'PDPN',\n",
       "       'RGCC', 'SDCBP', 'SERPINB3', 'SMAD2', 'SMAD3', 'SMAD4', 'SNAI1',\n",
       "       'TBX20', 'TCF7L2', 'TGFB1', 'TGFB1I1', 'TGFB2', 'TGFB3', 'TGFBR1',\n",
       "       'TGFBR2', 'TIAM1', 'TWIST1', 'WWTR1', 'ZNF703'], dtype='<U32')"
      ]
     },
     "execution_count": 230,
     "metadata": {},
     "output_type": "execute_result"
    }
   ],
   "source": [
    "go_list"
   ]
  },
  {
   "cell_type": "code",
   "execution_count": 231,
   "metadata": {},
   "outputs": [
    {
     "name": "stdout",
     "output_type": "stream",
     "text": [
      "  EXISTS: go-basic.obo\n",
      "  EXISTS: gene2go\n",
      "HMS:0:00:15.769959 342,209 annotations, 20,703 genes, 18,803 GOs, 1 taxids READ: gene2go \n",
      "4445 IDs in loaded association branch, MF\n",
      "go-basic.obo: fmt(1.2) rel(2022-03-22) 47,103 Terms; optional_attrs(comment def relationship synonym xref)\n"
     ]
    }
   ],
   "source": [
    "go_list=get_go_list(go_type=\"MF\",\n",
    "                    go_term=\"kinase\",\n",
    "                    species=\"Human\")"
   ]
  },
  {
   "cell_type": "code",
   "execution_count": 232,
   "metadata": {},
   "outputs": [
    {
     "data": {
      "text/plain": [
       "array(['AAK1', 'AATF', 'AATK', ..., 'ZFP36', 'ZFYVE26', 'ZPR1'],\n",
       "      dtype='<U32')"
      ]
     },
     "execution_count": 232,
     "metadata": {},
     "output_type": "execute_result"
    }
   ],
   "source": [
    "go_list"
   ]
  },
  {
   "cell_type": "code",
   "execution_count": 233,
   "metadata": {},
   "outputs": [
    {
     "name": "stdout",
     "output_type": "stream",
     "text": [
      "  EXISTS: go-basic.obo\n",
      "  EXISTS: gene2go\n",
      "HMS:0:00:08.012310 342,209 annotations, 20,703 genes, 18,803 GOs, 1 taxids READ: gene2go \n",
      "1823 IDs in loaded association branch, CC\n",
      "go-basic.obo: fmt(1.2) rel(2022-03-22) 47,103 Terms; optional_attrs(comment def relationship synonym xref)\n"
     ]
    }
   ],
   "source": [
    "go_list=get_go_list(go_type=\"CC\",\n",
    "                    go_term=\"membrane\",\n",
    "                    species=\"Human\")"
   ]
  },
  {
   "cell_type": "code",
   "execution_count": 234,
   "metadata": {},
   "outputs": [
    {
     "data": {
      "text/plain": [
       "array(['A1BG', 'A1CF', 'A2M', ..., 'ZYG11B', 'ZYX', 'ZZZ3'], dtype='<U32')"
      ]
     },
     "execution_count": 234,
     "metadata": {},
     "output_type": "execute_result"
    }
   ],
   "source": [
    "go_list"
   ]
  },
  {
   "cell_type": "markdown",
   "metadata": {},
   "source": [
    "### Overlaps between lists"
   ]
  },
  {
   "cell_type": "code",
   "execution_count": 252,
   "metadata": {},
   "outputs": [],
   "source": [
    "def array_filtering(array1,array2,mode=(\"unique\",\"overlap\")):\n",
    "    filtered=[]\n",
    "    for i in array1:\n",
    "        if mode==\"unique\":\n",
    "            if i not in array2:\n",
    "                filtered=np.append(filtered,i)\n",
    "        if mode==\"overlap\":\n",
    "            if i in array2:\n",
    "                filtered=np.append(filtered,i)\n",
    "    return filtered"
   ]
  },
  {
   "cell_type": "code",
   "execution_count": 253,
   "metadata": {},
   "outputs": [
    {
     "name": "stdout",
     "output_type": "stream",
     "text": [
      "  EXISTS: go-basic.obo\n",
      "  EXISTS: gene2go\n",
      "HMS:0:00:17.795434 342,209 annotations, 20,703 genes, 18,803 GOs, 1 taxids READ: gene2go \n",
      "12483 IDs in loaded association branch, BP\n",
      "go-basic.obo: fmt(1.2) rel(2022-03-22) 47,103 Terms; optional_attrs(comment def relationship synonym xref)\n"
     ]
    }
   ],
   "source": [
    "go_list1=get_go_list(go_type=\"BP\",\n",
    "                    go_term=\"positive regulation of epithelial to mesenchymal transition\",\n",
    "                    species=\"Human\")"
   ]
  },
  {
   "cell_type": "code",
   "execution_count": 254,
   "metadata": {},
   "outputs": [
    {
     "name": "stdout",
     "output_type": "stream",
     "text": [
      "  EXISTS: go-basic.obo\n",
      "  EXISTS: gene2go\n",
      "HMS:0:00:16.347723 342,209 annotations, 20,703 genes, 18,803 GOs, 1 taxids READ: gene2go \n",
      "12483 IDs in loaded association branch, BP\n",
      "go-basic.obo: fmt(1.2) rel(2022-03-22) 47,103 Terms; optional_attrs(comment def relationship synonym xref)\n"
     ]
    }
   ],
   "source": [
    "go_list2=get_go_list(go_type=\"BP\",\n",
    "                    go_term=\"negative regulation of epithelial to mesenchymal transition\",\n",
    "                    species=\"Human\")"
   ]
  },
  {
   "cell_type": "code",
   "execution_count": 255,
   "metadata": {},
   "outputs": [],
   "source": [
    "go_list1_unique=array_filtering(go_list1,go_list2,mode=\"unique\")"
   ]
  },
  {
   "cell_type": "code",
   "execution_count": 256,
   "metadata": {},
   "outputs": [
    {
     "data": {
      "text/plain": [
       "array(['ACVR1', 'ALX1', 'AXIN2', 'BAMBI', 'BCL9L', 'BMP2', 'BMP4', 'BMP7',\n",
       "       'COL1A1', 'CRB2', 'CTNNB1', 'DAB2', 'ENG', 'EZH2', 'FERMT2',\n",
       "       'FOXC1', 'GCNT2', 'GLIPR2', 'HDAC2', 'IL1B', 'IL6', 'ISL1', 'JAG1',\n",
       "       'LEF1', 'LOXL2', 'LRG1', 'MDK', 'MTOR', 'NOTCH1', 'OLFM1', 'PDPN',\n",
       "       'RGCC', 'SDCBP', 'SERPINB3', 'SMAD2', 'SMAD3', 'SMAD4', 'SNAI1',\n",
       "       'TBX20', 'TCF7L2', 'TGFB1', 'TGFB1I1', 'TGFB3', 'TGFBR1', 'TGFBR2',\n",
       "       'TIAM1', 'TWIST1', 'WWTR1', 'ZNF703'], dtype='<U32')"
      ]
     },
     "execution_count": 256,
     "metadata": {},
     "output_type": "execute_result"
    }
   ],
   "source": [
    "go_list1_unique"
   ]
  },
  {
   "cell_type": "code",
   "execution_count": 257,
   "metadata": {},
   "outputs": [],
   "source": [
    "go_list2_unique=array_filtering(go_list2,go_list1,mode=\"unique\")"
   ]
  },
  {
   "cell_type": "code",
   "execution_count": 258,
   "metadata": {},
   "outputs": [
    {
     "data": {
      "text/plain": [
       "array(['ADIPOR1', 'BMP5', 'DAB2IP', 'DACT3', 'EFNA1', 'EPHA4', 'FOXA1',\n",
       "       'FOXA2', 'FUZ', 'GATA3', 'HPN', 'IL17RD', 'LDLRAD4', 'MAD2L2',\n",
       "       'MARK1', 'NKX2-1', 'NOG', 'OVOL2', 'PPP2CA', 'PTEN', 'SDHAF2',\n",
       "       'SFRP1', 'SFRP2', 'SMAD7', 'SPRED1', 'SPRED2', 'SPRED3', 'SPRY1',\n",
       "       'SPRY2', 'TBX5', 'TRIM62', 'USF3', 'VASN', 'ZNF750'], dtype='<U32')"
      ]
     },
     "execution_count": 258,
     "metadata": {},
     "output_type": "execute_result"
    }
   ],
   "source": [
    "go_list2_unique"
   ]
  },
  {
   "cell_type": "code",
   "execution_count": 259,
   "metadata": {},
   "outputs": [],
   "source": [
    "go_list_overlap=array_filtering(go_list1,go_list2,mode=\"overlap\")"
   ]
  },
  {
   "cell_type": "code",
   "execution_count": 260,
   "metadata": {},
   "outputs": [
    {
     "data": {
      "text/plain": [
       "array(['TGFB2'], dtype='<U32')"
      ]
     },
     "execution_count": 260,
     "metadata": {},
     "output_type": "execute_result"
    }
   ],
   "source": [
    "go_list_overlap"
   ]
  },
  {
   "cell_type": "code",
   "execution_count": null,
   "metadata": {},
   "outputs": [],
   "source": []
  }
 ],
 "metadata": {
  "kernelspec": {
   "display_name": "Python [conda env:personal]",
   "language": "python",
   "name": "conda-env-personal-py"
  },
  "language_info": {
   "codemirror_mode": {
    "name": "ipython",
    "version": 3
   },
   "file_extension": ".py",
   "mimetype": "text/x-python",
   "name": "python",
   "nbconvert_exporter": "python",
   "pygments_lexer": "ipython3",
   "version": "3.6.8"
  }
 },
 "nbformat": 4,
 "nbformat_minor": 2
}
